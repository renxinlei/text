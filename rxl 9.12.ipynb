{
 "cells": [
  {
   "cell_type": "markdown",
   "metadata": {},
   "source": [
    "# 选择\n",
    "## 布尔类型、数值和表达式\n",
    "![](../Photo/33.png)\n",
    "- 注意：比较运算符的相等是两个等到，一个等到代表赋值\n",
    "- 在Python中可以用整型0来代表False，其他数字来代表True\n",
    "- 后面还会讲到 is 在判断语句中的用发"
   ]
  },
  {
   "cell_type": "markdown",
   "metadata": {},
   "source": [
    "## 字符串的比较使用ASCII值"
   ]
  },
  {
   "cell_type": "markdown",
   "metadata": {},
   "source": [
    "## Markdown \n",
    "- https://github.com/younghz/Markdown"
   ]
  },
  {
   "cell_type": "markdown",
   "metadata": {},
   "source": [
    "## EP:\n",
    "- <img src=\"../Photo/34.png\"></img>\n",
    "- 输入一个数字，判断其实奇数还是偶数"
   ]
  },
  {
   "cell_type": "markdown",
   "metadata": {},
   "source": [
    "## 产生随机数字\n",
    "- 函数random.randint(a,b) 可以用来产生一个a和b之间且包括a和b的随机整数"
   ]
  },
  {
   "cell_type": "code",
   "execution_count": 1,
   "metadata": {},
   "outputs": [
    {
     "name": "stdout",
     "output_type": "stream",
     "text": [
      ">>1\n",
      "等于\n"
     ]
    }
   ],
   "source": [
    "import math,random\n",
    "num = random.randint(0,10)\n",
    "while True :\n",
    "    num_ = eval(input('>>'))\n",
    "    if num_ > num :\n",
    "        print('大了')\n",
    "    elif num < num_:\n",
    "        print('小了')\n",
    "    else:\n",
    "        break\n",
    "print('等于')"
   ]
  },
  {
   "cell_type": "markdown",
   "metadata": {},
   "source": [
    "##  其他random方法\n",
    "- random.random 返回0.0到1.0之间前闭后开区间的随机浮点\n",
    "- random.randrange(a,b) 前闭后开"
   ]
  },
  {
   "cell_type": "markdown",
   "metadata": {},
   "source": [
    "## EP：\n",
    "- 产生两个随机整数number1和number2，然后显示给用户，使用户输入数字的和，并判定其是否正确\n",
    "- 进阶:写一个随机序号点名程序"
   ]
  },
  {
   "cell_type": "markdown",
   "metadata": {},
   "source": [
    "## if语句\n",
    "- 如果条件正确就执行一个单向if语句，亦即当条件为真的时候才执行if内部的语句\n",
    "- Python有很多选择语句:\n",
    "> - 单向if \n",
    "  - 双向if-else\n",
    "  - 嵌套if\n",
    "  - 多向if-elif-else\n",
    "  \n",
    "- 注意：当语句含有子语句的时候，那么一定至少要有一个缩进，也就是说如果有儿子存在，那么一定要缩进\n",
    "- 切记不可tab键和space混用，单用tab 或者 space\n",
    "- 当你输出的结果是无论if是否为真时都需要显示时，语句应该与if对齐"
   ]
  },
  {
   "cell_type": "markdown",
   "metadata": {},
   "source": [
    "## EP：\n",
    "- 用户输入一个数字，判断其实奇数还是偶数\n",
    "- 进阶：可以查看下4.5实例研究猜生日"
   ]
  },
  {
   "cell_type": "markdown",
   "metadata": {},
   "source": [
    "## 双向if-else 语句\n",
    "- 如果条件为真，那么走if内部语句，否则走else内部语句"
   ]
  },
  {
   "cell_type": "markdown",
   "metadata": {},
   "source": [
    "## EP：\n",
    "- 产生两个随机整数number1和number2，然后显示给用户，使用户输入数字，并判定其是否正确,如果正确打印“you‘re correct”，否则打印正确错误"
   ]
  },
  {
   "cell_type": "markdown",
   "metadata": {},
   "source": [
    "## 嵌套if 和多向if-elif-else\n",
    "![](../Photo/35.png)"
   ]
  },
  {
   "cell_type": "markdown",
   "metadata": {},
   "source": [
    "## EP：\n",
    "- 提示用户输入一个年份，然后显示表示这一年的动物\n",
    "![](../Photo/36.png)\n",
    "- 计算身体质量指数的程序\n",
    "- BMI = 以千克为单位的体重除以以米为单位的身高\n",
    "![](../Photo/37.png)"
   ]
  },
  {
   "cell_type": "code",
   "execution_count": 2,
   "metadata": {},
   "outputs": [
    {
     "name": "stdout",
     "output_type": "stream",
     "text": [
      "身高1.75\n",
      "体重75\n",
      "痴肥\n"
     ]
    }
   ],
   "source": [
    "hight = eval(input('身高'))\n",
    "weight = eval(input('体重'))\n",
    "BMI = weight/hight\n",
    "\n",
    "if BMI < 18.5:\n",
    "    print('超轻')\n",
    "elif  BMI >= 30.0:\n",
    "    print('痴肥')\n",
    "elif 25.0<= BMI < 30.0:\n",
    "    print('超重')\n",
    "elif 18.5<= BMI < 25.0:\n",
    "    print('标准')\n",
    "else:\n",
    "    print('标准')\n",
    "      "
   ]
  },
  {
   "cell_type": "markdown",
   "metadata": {},
   "source": [
    "## 逻辑运算符\n",
    "![](../Photo/38.png)"
   ]
  },
  {
   "cell_type": "markdown",
   "metadata": {},
   "source": [
    "![](../Photo/39.png)\n",
    "![](../Photo/40.png)"
   ]
  },
  {
   "cell_type": "markdown",
   "metadata": {},
   "source": [
    "## EP：\n",
    "- 判定闰年：一个年份如果能被4整除但不能被100整除，或者能被400整除，那么这个年份就是闰年\n",
    "- 提示用户输入一个年份，并返回是否是闰年\n",
    "- 提示用户输入一个数字，判断其是否为水仙花数"
   ]
  },
  {
   "cell_type": "code",
   "execution_count": 3,
   "metadata": {},
   "outputs": [
    {
     "name": "stdout",
     "output_type": "stream",
     "text": [
      "输入年份2008\n",
      "是闰年\n"
     ]
    }
   ],
   "source": [
    "year = eval(input('输入年份'))\n",
    "if (year%4 == 0 and year % 100 !=0) or year % 400 == 0 :\n",
    "    print('是闰年')\n",
    "else:\n",
    "    print('不是闰年')"
   ]
  },
  {
   "cell_type": "code",
   "execution_count": 5,
   "metadata": {},
   "outputs": [
    {
     "name": "stdout",
     "output_type": "stream",
     "text": [
      "输入一个3位数153\n",
      "是水仙花数\n"
     ]
    }
   ],
   "source": [
    "num = eval(input('输入一个3位数'))\n",
    "a = num // 100 \n",
    "b = (num // 10) % 10 \n",
    "c = num % 10 \n",
    "d = a*a*a+b*b*b+c*c*c\n",
    "if d == num :\n",
    "    print('是水仙花数')\n",
    "else:\n",
    "    print('不是水仙花数')\n",
    "\n"
   ]
  },
  {
   "cell_type": "markdown",
   "metadata": {},
   "source": [
    "## 实例研究：彩票\n",
    "![](../Photo/41.png)"
   ]
  },
  {
   "cell_type": "markdown",
   "metadata": {},
   "source": [
    "# Homework\n",
    "- 1\n",
    "![](../Photo/42.png)"
   ]
  },
  {
   "cell_type": "code",
   "execution_count": 8,
   "metadata": {},
   "outputs": [
    {
     "name": "stdout",
     "output_type": "stream",
     "text": [
      "输入a,b,c值1.0,3,1\n",
      "-0.3819660112501051 -2.618033988749895\n"
     ]
    }
   ],
   "source": [
    "import math\n",
    "a,b,c = eval(input('输入a,b,c值'))\n",
    "judge = b**2-4*a*c\n",
    "if judge > 0:\n",
    "    r1 =(-b+math.sqrt(judge))/2*a\n",
    "    r2 =(-b-math.sqrt(judge))/2*a\n",
    "    print(r1,r2)\n",
    "elif judge == 0:\n",
    "    r3 =(-b+math.sqrt(judge))/2*a\n",
    "    print(r1)\n",
    "else:\n",
    "    print(\"The equation has no real roots\")\n",
    "    "
   ]
  },
  {
   "cell_type": "markdown",
   "metadata": {},
   "source": [
    "- 2\n",
    "![](../Photo/43.png)"
   ]
  },
  {
   "cell_type": "code",
   "execution_count": 9,
   "metadata": {},
   "outputs": [
    {
     "name": "stdout",
     "output_type": "stream",
     "text": [
      "29 83\n",
      "输入的和100\n",
      "False\n"
     ]
    }
   ],
   "source": [
    "import math,random\n",
    "num_1 = random.randint(0,99)\n",
    "num_2 = random.randint(0,99)\n",
    "num_3 =num_1+num_2\n",
    "print(num_1,num_2)\n",
    "sum = eval(input('输入的和'))\n",
    "if sum == num_3:\n",
    "    print('Ture')\n",
    "else:\n",
    "    print('False')"
   ]
  },
  {
   "cell_type": "markdown",
   "metadata": {},
   "source": [
    "- 3\n",
    "![](../Photo/44.png)"
   ]
  },
  {
   "cell_type": "code",
   "execution_count": null,
   "metadata": {},
   "outputs": [],
   "source": []
  },
  {
   "cell_type": "markdown",
   "metadata": {},
   "source": [
    "- 4\n",
    "![](../Photo/45.png)"
   ]
  },
  {
   "cell_type": "code",
   "execution_count": 3,
   "metadata": {},
   "outputs": [
    {
     "name": "stdout",
     "output_type": "stream",
     "text": [
      "输入三个整数，以逗号隔开3,2,1\n",
      "1 2 3\n"
     ]
    }
   ],
   "source": [
    "n1,n2,n3=eval(input('输入三个整数，以逗号隔开'))\n",
    "if n1 < n2 :\n",
    "    n4 = n1\n",
    "    n1 = n2\n",
    "    n2 = n4\n",
    "elif n1 < n3 :\n",
    "    n4 = n1\n",
    "    n1 = n3\n",
    "    n3 = n4\n",
    "elif n2 < n3:\n",
    "    n4 = n2\n",
    "    n2 = n3\n",
    "    n3 = n4\n",
    "print(n3,n2,n1)"
   ]
  },
  {
   "cell_type": "markdown",
   "metadata": {},
   "source": [
    "- 5\n",
    "![](../Photo/46.png)"
   ]
  },
  {
   "cell_type": "code",
   "execution_count": 11,
   "metadata": {},
   "outputs": [
    {
     "name": "stdout",
     "output_type": "stream",
     "text": [
      "重量1，价钱1:50,24.59\n",
      "重量2，价钱2:25,11.99\n",
      "Package 2 has the better price\n"
     ]
    }
   ],
   "source": [
    "weight_1,price_1 = eval(input('重量1，价钱1:'))\n",
    "weight_2,price_2 = eval(input('重量2，价钱2:'))\n",
    "aver_1 = price_1/weight_1\n",
    "aver_2 = price_2/weight_2\n",
    "if aver_1 > aver_2:\n",
    "    print('Package 2 has the better price')\n",
    "elif aver_1 < aver_2:\n",
    "    print('Package 1 has the better price')\n",
    "else:\n",
    "    print('1 = 2')"
   ]
  },
  {
   "cell_type": "markdown",
   "metadata": {},
   "source": [
    "- 6\n",
    "![](../Photo/47.png)"
   ]
  },
  {
   "cell_type": "markdown",
   "metadata": {},
   "source": [
    "- 7\n",
    "![](../Photo/48.png)"
   ]
  },
  {
   "cell_type": "code",
   "execution_count": 14,
   "metadata": {},
   "outputs": [
    {
     "name": "stdout",
     "output_type": "stream",
     "text": [
      "猜测是哪面:正\n",
      "Ture\n"
     ]
    }
   ],
   "source": [
    "import random\n",
    "x = random.randint(0,1)\n",
    "x0 =[\"正\",\"反\"]\n",
    "x_ =input('猜测是哪面:')\n",
    "if x_ == x0[x] :\n",
    "    print('Ture')\n",
    "else:\n",
    "    print('False')"
   ]
  },
  {
   "cell_type": "markdown",
   "metadata": {},
   "source": [
    "- 8\n",
    "![](../Photo/49.png)"
   ]
  },
  {
   "cell_type": "code",
   "execution_count": 15,
   "metadata": {},
   "outputs": [
    {
     "name": "stdout",
     "output_type": "stream",
     "text": [
      "输入0、1、2：1\n",
      "你赢了\n"
     ]
    }
   ],
   "source": [
    "import random\n",
    "x = random.randint(0,2)\n",
    "x_ =eval(input('输入0、1、2：'))\n",
    "if x == x_ :\n",
    "    print('平')\n",
    "elif x == 0 and x_ == 1:\n",
    "    print('你赢了')\n",
    "elif x == 1 and x_ == 2:\n",
    "    print('你赢了')\n",
    "elif x == 0 and x_ == 2:\n",
    "    print('你输了')\n",
    "elif x == 1 and x_ == 0:\n",
    "    print('你输了')\n",
    "elif x == 2 and x_ == 1:\n",
    "    print('你输了')\n",
    "elif x == 2 and x_ == 0:\n",
    "    print('你赢了')"
   ]
  },
  {
   "cell_type": "markdown",
   "metadata": {},
   "source": [
    "- 9\n",
    "![](../Photo/50.png)"
   ]
  },
  {
   "cell_type": "markdown",
   "metadata": {},
   "source": [
    "- 10\n",
    "![](../Photo/51.png)"
   ]
  },
  {
   "cell_type": "code",
   "execution_count": 20,
   "metadata": {},
   "outputs": [
    {
     "name": "stdout",
     "output_type": "stream",
     "text": [
      "你抽中的牌是：方块7\n"
     ]
    }
   ],
   "source": [
    "import random\n",
    "x = random.randint(0,13)\n",
    "y = random.randint(0,3)\n",
    "x_ = [\"Ace\",\"2\",\"3\",\"4\",\"5\",\"6\",\"7\",\"8\",\"9\",\"10\",\"jack\",\"Queen\",\"King\"]\n",
    "y_ = [\"梅花\",\"红桃\",\"方块\",\"黑桃\"]\n",
    "print(\"你抽中的牌是：\"+str(y_[y])+str(x_[x]))"
   ]
  },
  {
   "cell_type": "markdown",
   "metadata": {},
   "source": [
    "- 11\n",
    "![](../Photo/52.png)"
   ]
  },
  {
   "cell_type": "code",
   "execution_count": 24,
   "metadata": {},
   "outputs": [
    {
     "name": "stdout",
     "output_type": "stream",
     "text": [
      "输入一个三位数：121\n",
      "121是一个回文数\n"
     ]
    }
   ],
   "source": [
    "num = input(\"输入一个三位数：\")\n",
    "if num[0] == num[2]:\n",
    "    print(num+\"是一个回文数\")\n",
    "else:\n",
    "    print(num+\"不是一个回文数\")"
   ]
  },
  {
   "cell_type": "markdown",
   "metadata": {},
   "source": [
    "- 12\n",
    "![](../Photo/53.png)"
   ]
  },
  {
   "cell_type": "code",
   "execution_count": null,
   "metadata": {},
   "outputs": [],
   "source": [
    "a,b,c = eval(input(\"请输入三角形的三条边长：\"))\n",
    "if (a+b>c and a-b<c):\n",
    "    s = a+b+c\n",
    "    print(\"周长：\"+str(s))\n",
    "else:\n",
    "    print(\"输入的3条边长不能构成三角形\")"
   ]
  },
  {
   "cell_type": "code",
   "execution_count": null,
   "metadata": {},
   "outputs": [],
   "source": []
  }
 ],
 "metadata": {
  "kernelspec": {
   "display_name": "Python 3",
   "language": "python",
   "name": "python3"
  },
  "language_info": {
   "codemirror_mode": {
    "name": "ipython",
    "version": 3
   },
   "file_extension": ".py",
   "mimetype": "text/x-python",
   "name": "python",
   "nbconvert_exporter": "python",
   "pygments_lexer": "ipython3",
   "version": "3.6.4"
  }
 },
 "nbformat": 4,
 "nbformat_minor": 2
}
